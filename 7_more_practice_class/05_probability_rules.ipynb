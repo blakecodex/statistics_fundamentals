{
 "cells": [
  {
   "cell_type": "markdown",
   "metadata": {},
   "source": [
    "# Probability Rules & Randomness\n",
    "Example: Dice Roll – What's the probability of a sum of 7?"
   ]
  },
  {
   "cell_type": "code",
   "execution_count": 2,
   "metadata": {},
   "outputs": [
    {
     "name": "stdout",
     "output_type": "stream",
     "text": [
      "Total outcomes: 36\n",
      "Favorable outcomes (sum=7): 6\n",
      "P(sum=7): 0.16666666666666666\n"
     ]
    }
   ],
   "source": [
    "outcomes = [(i, j) for i in range(1, 7) for j in range(1, 7)]\n",
    "sum_7 = [1 for (i, j) in outcomes if i + j == 7]\n",
    "print('Total outcomes:', len(outcomes))\n",
    "print('Favorable outcomes (sum=7):', len(sum_7))\n",
    "print('P(sum=7):', len(sum_7) / len(outcomes))"
   ]
  },
  {
   "cell_type": "markdown",
   "metadata": {},
   "source": [
    "### Extension:\n",
    "- Try calculating P(sum=2), P(sum=12)\n",
    "- How many ways can you roll an even number?"
   ]
  }
 ],
 "metadata": {
  "kernelspec": {
   "display_name": "Python 3",
   "language": "python",
   "name": "python3"
  },
  "language_info": {
   "codemirror_mode": {
    "name": "ipython",
    "version": 3
   },
   "file_extension": ".py",
   "mimetype": "text/x-python",
   "name": "python",
   "nbconvert_exporter": "python",
   "pygments_lexer": "ipython3",
   "version": "3.10.11"
  }
 },
 "nbformat": 4,
 "nbformat_minor": 2
}
